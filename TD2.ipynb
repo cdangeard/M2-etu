{
 "cells": [
  {
   "cell_type": "markdown",
   "metadata": {},
   "source": [
    "# TD 2 : Machine Learning avec Sklearn\n",
    "## Préparation des données\n",
    "\n",
    "Importer le fichier de données (horses.csv) dans un DataFrame pandas."
   ]
  },
  {
   "cell_type": "code",
   "execution_count": 1,
   "metadata": {},
   "outputs": [],
   "source": [
    "import pandas as pd\n",
    "import numpy as np\n",
    "import matplotlib.pyplot as plt\n",
    "import seaborn as sns"
   ]
  },
  {
   "cell_type": "code",
   "execution_count": 8,
   "metadata": {},
   "outputs": [],
   "source": [
    "horses = pd.read_csv('data/horse.csv')\n",
    "# Transtypage des variables catégorielles\n",
    "for col in horses.columns:\n",
    "    if horses[col].dtype == 'object':\n",
    "        horses[col] = horses[col].astype('category')\n",
    "    else:\n",
    "        horses[col] = horses[col].astype('float64')"
   ]
  },
  {
   "cell_type": "code",
   "execution_count": 3,
   "metadata": {},
   "outputs": [
    {
     "name": "stdout",
     "output_type": "stream",
     "text": [
      "<class 'pandas.core.frame.DataFrame'>\n",
      "RangeIndex: 299 entries, 0 to 298\n",
      "Data columns (total 28 columns):\n",
      " #   Column                 Non-Null Count  Dtype   \n",
      "---  ------                 --------------  -----   \n",
      " 0   surgery                299 non-null    category\n",
      " 1   age                    299 non-null    category\n",
      " 2   hospital_number        299 non-null    float64 \n",
      " 3   rectal_temp            239 non-null    float64 \n",
      " 4   pulse                  275 non-null    float64 \n",
      " 5   respiratory_rate       241 non-null    float64 \n",
      " 6   temp_of_extremities    243 non-null    category\n",
      " 7   peripheral_pulse       230 non-null    category\n",
      " 8   mucous_membrane        252 non-null    category\n",
      " 9   capillary_refill_time  267 non-null    category\n",
      " 10  pain                   244 non-null    category\n",
      " 11  peristalsis            255 non-null    category\n",
      " 12  abdominal_distention   243 non-null    category\n",
      " 13  nasogastric_tube       195 non-null    category\n",
      " 14  nasogastric_reflux     193 non-null    category\n",
      " 15  nasogastric_reflux_ph  53 non-null     float64 \n",
      " 16  rectal_exam_feces      197 non-null    category\n",
      " 17  abdomen                181 non-null    category\n",
      " 18  packed_cell_volume     270 non-null    float64 \n",
      " 19  total_protein          266 non-null    float64 \n",
      " 20  abdomo_appearance      134 non-null    category\n",
      " 21  abdomo_protein         101 non-null    float64 \n",
      " 22  outcome                299 non-null    category\n",
      " 23  surgical_lesion        299 non-null    category\n",
      " 24  lesion_1               299 non-null    float64 \n",
      " 25  lesion_2               299 non-null    float64 \n",
      " 26  lesion_3               299 non-null    float64 \n",
      " 27  cp_data                299 non-null    category\n",
      "dtypes: category(17), float64(11)\n",
      "memory usage: 33.5 KB\n"
     ]
    }
   ],
   "source": [
    "horses.info()"
   ]
  },
  {
   "cell_type": "markdown",
   "metadata": {},
   "source": [
    "Appliquer la préparation de données du TD1. (ou utilisez la baseline ci-dessous)"
   ]
  },
  {
   "cell_type": "code",
   "execution_count": 9,
   "metadata": {},
   "outputs": [],
   "source": [
    "class Nettoyeur_perso():\n",
    "    def __init__(self, col_a_retirer=None, seuil=0.6) -> None:\n",
    "        self.col_a_retirer = col_a_retirer\n",
    "        self.seuil = seuil\n",
    "    \n",
    "    def fit(self, X, y=None):\n",
    "        self.X = X\n",
    "        return self\n",
    "    \n",
    "    def transform(self, X, y=None):\n",
    "        X = X.copy()\n",
    "        X.drop(self.col_a_retirer,\n",
    "            axis=1, inplace=True # inplace = True pour que la modification soit faite directement sur le dataframe\n",
    "            )\n",
    "        X = X.dropna(thresh=len(X)*self.seuil, axis=1)# Suppression des colonnes avec plus de 60% de valeurs manquantes\n",
    "        for col in X.columns:\n",
    "            if X[col].dtype != 'float64':\n",
    "                X[col] = X.loc[:,col].fillna(X[col].mode()[0])# Remplacement des valeurs manquantes par le mode pour les variables catégorielles mode = valeur la plus fréquente\n",
    "            else:\n",
    "                X[col] = X.loc[:,col].fillna(X[col].mean())# Remplacement des valeurs manquantes par la moyenne pour les variables numériques\n",
    "        return X\n",
    "    \n",
    "    def fit_transform(self, X, y=None):\n",
    "        self.fit(X)\n",
    "        return self.transform(X)"
   ]
  },
  {
   "cell_type": "code",
   "execution_count": 11,
   "metadata": {},
   "outputs": [
    {
     "name": "stdout",
     "output_type": "stream",
     "text": [
      "(299, 18)\n"
     ]
    },
    {
     "data": {
      "text/html": [
       "<div>\n",
       "<style scoped>\n",
       "    .dataframe tbody tr th:only-of-type {\n",
       "        vertical-align: middle;\n",
       "    }\n",
       "\n",
       "    .dataframe tbody tr th {\n",
       "        vertical-align: top;\n",
       "    }\n",
       "\n",
       "    .dataframe thead th {\n",
       "        text-align: right;\n",
       "    }\n",
       "</style>\n",
       "<table border=\"1\" class=\"dataframe\">\n",
       "  <thead>\n",
       "    <tr style=\"text-align: right;\">\n",
       "      <th></th>\n",
       "      <th>age</th>\n",
       "      <th>rectal_temp</th>\n",
       "      <th>pulse</th>\n",
       "      <th>respiratory_rate</th>\n",
       "      <th>temp_of_extremities</th>\n",
       "      <th>peripheral_pulse</th>\n",
       "      <th>mucous_membrane</th>\n",
       "      <th>capillary_refill_time</th>\n",
       "      <th>pain</th>\n",
       "      <th>peristalsis</th>\n",
       "      <th>abdominal_distention</th>\n",
       "      <th>nasogastric_tube</th>\n",
       "      <th>nasogastric_reflux</th>\n",
       "      <th>rectal_exam_feces</th>\n",
       "      <th>abdomen</th>\n",
       "      <th>packed_cell_volume</th>\n",
       "      <th>total_protein</th>\n",
       "      <th>surgical_lesion</th>\n",
       "    </tr>\n",
       "  </thead>\n",
       "  <tbody>\n",
       "    <tr>\n",
       "      <th>0</th>\n",
       "      <td>adult</td>\n",
       "      <td>38.5</td>\n",
       "      <td>66.0</td>\n",
       "      <td>28.0</td>\n",
       "      <td>cool</td>\n",
       "      <td>reduced</td>\n",
       "      <td>normal_pink</td>\n",
       "      <td>more_3_sec</td>\n",
       "      <td>extreme_pain</td>\n",
       "      <td>absent</td>\n",
       "      <td>severe</td>\n",
       "      <td>slight</td>\n",
       "      <td>none</td>\n",
       "      <td>decreased</td>\n",
       "      <td>distend_large</td>\n",
       "      <td>45.0</td>\n",
       "      <td>8.4</td>\n",
       "      <td>no</td>\n",
       "    </tr>\n",
       "    <tr>\n",
       "      <th>1</th>\n",
       "      <td>adult</td>\n",
       "      <td>39.2</td>\n",
       "      <td>88.0</td>\n",
       "      <td>20.0</td>\n",
       "      <td>cool</td>\n",
       "      <td>normal</td>\n",
       "      <td>pale_cyanotic</td>\n",
       "      <td>less_3_sec</td>\n",
       "      <td>mild_pain</td>\n",
       "      <td>absent</td>\n",
       "      <td>slight</td>\n",
       "      <td>slight</td>\n",
       "      <td>none</td>\n",
       "      <td>absent</td>\n",
       "      <td>other</td>\n",
       "      <td>50.0</td>\n",
       "      <td>85.0</td>\n",
       "      <td>no</td>\n",
       "    </tr>\n",
       "    <tr>\n",
       "      <th>2</th>\n",
       "      <td>adult</td>\n",
       "      <td>38.3</td>\n",
       "      <td>40.0</td>\n",
       "      <td>24.0</td>\n",
       "      <td>normal</td>\n",
       "      <td>normal</td>\n",
       "      <td>pale_pink</td>\n",
       "      <td>less_3_sec</td>\n",
       "      <td>mild_pain</td>\n",
       "      <td>hypomotile</td>\n",
       "      <td>none</td>\n",
       "      <td>slight</td>\n",
       "      <td>none</td>\n",
       "      <td>normal</td>\n",
       "      <td>normal</td>\n",
       "      <td>33.0</td>\n",
       "      <td>6.7</td>\n",
       "      <td>no</td>\n",
       "    </tr>\n",
       "    <tr>\n",
       "      <th>3</th>\n",
       "      <td>young</td>\n",
       "      <td>39.1</td>\n",
       "      <td>164.0</td>\n",
       "      <td>84.0</td>\n",
       "      <td>cold</td>\n",
       "      <td>normal</td>\n",
       "      <td>dark_cyanotic</td>\n",
       "      <td>more_3_sec</td>\n",
       "      <td>depressed</td>\n",
       "      <td>absent</td>\n",
       "      <td>severe</td>\n",
       "      <td>none</td>\n",
       "      <td>less_1_liter</td>\n",
       "      <td>decreased</td>\n",
       "      <td>distend_large</td>\n",
       "      <td>48.0</td>\n",
       "      <td>7.2</td>\n",
       "      <td>yes</td>\n",
       "    </tr>\n",
       "    <tr>\n",
       "      <th>4</th>\n",
       "      <td>adult</td>\n",
       "      <td>37.3</td>\n",
       "      <td>104.0</td>\n",
       "      <td>35.0</td>\n",
       "      <td>cool</td>\n",
       "      <td>normal</td>\n",
       "      <td>dark_cyanotic</td>\n",
       "      <td>more_3_sec</td>\n",
       "      <td>mild_pain</td>\n",
       "      <td>hypomotile</td>\n",
       "      <td>none</td>\n",
       "      <td>slight</td>\n",
       "      <td>none</td>\n",
       "      <td>absent</td>\n",
       "      <td>distend_large</td>\n",
       "      <td>74.0</td>\n",
       "      <td>7.4</td>\n",
       "      <td>no</td>\n",
       "    </tr>\n",
       "  </tbody>\n",
       "</table>\n",
       "</div>"
      ],
      "text/plain": [
       "     age  rectal_temp  pulse  respiratory_rate temp_of_extremities  \\\n",
       "0  adult         38.5   66.0              28.0                cool   \n",
       "1  adult         39.2   88.0              20.0                cool   \n",
       "2  adult         38.3   40.0              24.0              normal   \n",
       "3  young         39.1  164.0              84.0                cold   \n",
       "4  adult         37.3  104.0              35.0                cool   \n",
       "\n",
       "  peripheral_pulse mucous_membrane capillary_refill_time          pain  \\\n",
       "0          reduced     normal_pink            more_3_sec  extreme_pain   \n",
       "1           normal   pale_cyanotic            less_3_sec     mild_pain   \n",
       "2           normal       pale_pink            less_3_sec     mild_pain   \n",
       "3           normal   dark_cyanotic            more_3_sec     depressed   \n",
       "4           normal   dark_cyanotic            more_3_sec     mild_pain   \n",
       "\n",
       "  peristalsis abdominal_distention nasogastric_tube nasogastric_reflux  \\\n",
       "0      absent               severe           slight               none   \n",
       "1      absent               slight           slight               none   \n",
       "2  hypomotile                 none           slight               none   \n",
       "3      absent               severe             none       less_1_liter   \n",
       "4  hypomotile                 none           slight               none   \n",
       "\n",
       "  rectal_exam_feces        abdomen  packed_cell_volume  total_protein  \\\n",
       "0         decreased  distend_large                45.0            8.4   \n",
       "1            absent          other                50.0           85.0   \n",
       "2            normal         normal                33.0            6.7   \n",
       "3         decreased  distend_large                48.0            7.2   \n",
       "4            absent  distend_large                74.0            7.4   \n",
       "\n",
       "  surgical_lesion  \n",
       "0              no  \n",
       "1              no  \n",
       "2              no  \n",
       "3             yes  \n",
       "4              no  "
      ]
     },
     "execution_count": 11,
     "metadata": {},
     "output_type": "execute_result"
    }
   ],
   "source": [
    "imputer = Nettoyeur_perso(col_a_retirer=['surgery', 'hospital_number', 'outcome', 'lesion_1', \n",
    "    'lesion_2', 'lesion_3', 'cp_data'],\n",
    "    seuil=0.6)\n",
    "horsesClean = imputer.fit_transform(horses)\n",
    "print(horsesClean.shape)\n",
    "horsesClean.head()"
   ]
  },
  {
   "cell_type": "markdown",
   "metadata": {},
   "source": [
    "Il va être être nécessaire d'encoder nos données qualitatives :\n",
    "\n",
    "Il existe plusieurs méthodes pour encoder des données qualitatives. \n",
    "\n",
    "\n",
    "Pour les variables nominales :\n",
    "\n",
    "* [sklearn.preprocessing.LabelEncoder](https://scikit-learn.org/stable/modules/generated/sklearn.preprocessing.LabelEncoder.html)\n",
    "\n",
    "* [pandas.get_dummies](https://pandas.pydata.org/pandas-docs/stable/reference/api/pandas.get_dummies.html)\n",
    "\n",
    "* ... bien d'autres sur [sklearn.preprocessing](https://scikit-learn.org/stable/modules/preprocessing.html#encoding-categorical-features)\n",
    "\n",
    "Pour les variables ordinales :\n",
    "\n",
    "* [sklearn.preprocessing.OrdinalEncoder](https://scikit-learn.org/stable/modules/generated/sklearn.preprocessing.OrdinalEncoder.html) pour les variables ordinales.\n",
    "\n"
   ]
  },
  {
   "cell_type": "code",
   "execution_count": 9,
   "metadata": {},
   "outputs": [],
   "source": [
    "from sklearn.preprocessing import OrdinalEncoder\n",
    "\n",
    "#TODO : encoder les variables ordinales à l'aide de OrdinalEncoder\n",
    "#TODO : encoder les variables nominales à l'aide de get_dummies"
   ]
  },
  {
   "cell_type": "markdown",
   "metadata": {},
   "source": [
    "Par simplicité, nous allons juger nos différents modèle à travers un validation holdout. Nous allons donc séparer notre jeu de données en deux parties : une partie pour l'entrainement et une partie pour le test.\n",
    "\n",
    "[sklearn.model_selection.train_test_split](https://scikit-learn.org/stable/modules/generated/sklearn.model_selection.train_test_split.html)"
   ]
  },
  {
   "cell_type": "code",
   "execution_count": 8,
   "metadata": {},
   "outputs": [],
   "source": [
    "from sklearn.model_selection import train_test_split\n",
    "\n",
    "#TODO : séparer les données en train et test"
   ]
  },
  {
   "cell_type": "markdown",
   "metadata": {},
   "source": [
    "## Construction du modèle"
   ]
  },
  {
   "cell_type": "markdown",
   "metadata": {},
   "source": [
    "## Apprentissage"
   ]
  },
  {
   "cell_type": "markdown",
   "metadata": {},
   "source": [
    "#### Arbre de décision\n",
    "\n",
    "Réalisez un arbre de décision avec la fonction [DecisionTreeClassifier](https://scikit-learn.org/stable/modules/generated/sklearn.tree.DecisionTreeClassifier.html) de sklearn."
   ]
  },
  {
   "cell_type": "code",
   "execution_count": 17,
   "metadata": {},
   "outputs": [],
   "source": [
    "from sklearn.tree import DecisionTreeClassifier\n",
    "# max_depth : profondeur maximale de l'arbre\n",
    "# min_samples_split : nombre minimal d'observations pour pouvoir spliter un noeud\n",
    "# min_samples_leaf : nombre minimal d'observations pour pouvoir créer un noeud\n",
    "# splitter : critère de split\n",
    "# random_state : graine pour la reproductibilité\n",
    "\n",
    "# On instancie notre modèle\n",
    "\n",
    "# On entraine notre modèle\n",
    "\n",
    "# On prédit les valeurs de y pour X_test\n"
   ]
  },
  {
   "cell_type": "markdown",
   "metadata": {},
   "source": [
    "##### Visualisation de l'arbre"
   ]
  },
  {
   "cell_type": "code",
   "execution_count": 7,
   "metadata": {},
   "outputs": [],
   "source": [
    "from sklearn.tree import plot_tree\n",
    "\n",
    "# On affiche l'arbre\n"
   ]
  },
  {
   "cell_type": "markdown",
   "metadata": {},
   "source": [
    "##### Evaluation de l'arbre"
   ]
  },
  {
   "cell_type": "code",
   "execution_count": 1,
   "metadata": {},
   "outputs": [],
   "source": [
    "from sklearn.metrics import confusion_matrix\n",
    "from sklearn.metrics import classification_report\n",
    "\n",
    "# TODO : afficher la matrice de confusion et le classification report"
   ]
  },
  {
   "cell_type": "markdown",
   "metadata": {},
   "source": [
    "#### Bagging (Random Forest)"
   ]
  },
  {
   "cell_type": "markdown",
   "metadata": {},
   "source": [
    "On va maintenant utiliser un modèle de bagging : le [Random Forest](https://scikit-learn.org/stable/modules/generated/sklearn.ensemble.RandomForestClassifier.html).\n",
    "\n",
    "Entrainez et évaluez un modèle de Random Forest."
   ]
  },
  {
   "cell_type": "code",
   "execution_count": 6,
   "metadata": {},
   "outputs": [],
   "source": [
    "from sklearn.ensemble import RandomForestClassifier\n",
    "\n",
    "#TO DO : instancier et entrainer un modèle de forêt aléatoire"
   ]
  },
  {
   "cell_type": "markdown",
   "metadata": {},
   "source": [
    "Bonus : Essayez de faire varier le nombre d'arbres dans le modèle et observez l'impact sur la performance du modèle."
   ]
  },
  {
   "cell_type": "markdown",
   "metadata": {},
   "source": [
    "Il est possible de visualiser l'importance des variables dans le modèle.\n",
    "\n",
    "A l'aide de la fonction [feature_importances_](https://scikit-learn.org/stable/auto_examples/ensemble/plot_forest_importances.html) de sklearn."
   ]
  },
  {
   "cell_type": "code",
   "execution_count": null,
   "metadata": {},
   "outputs": [],
   "source": []
  },
  {
   "cell_type": "markdown",
   "metadata": {},
   "source": [
    "Sur sklearn il existe aussi la fonction [permutation_importance](https://scikit-learn.org/stable/modules/permutation_importance.html) qui permet de calculer l'importance des variables."
   ]
  },
  {
   "cell_type": "code",
   "execution_count": 2,
   "metadata": {},
   "outputs": [],
   "source": [
    "from sklearn.inspection import permutation_importance\n"
   ]
  },
  {
   "cell_type": "markdown",
   "metadata": {},
   "source": [
    "https://scikit-learn.org/stable/auto_examples/inspection/plot_permutation_importance.html"
   ]
  },
  {
   "cell_type": "markdown",
   "metadata": {},
   "source": [
    "#### Bagging\n",
    "\n",
    "On va maintenant utiliser un modèle de bagging : le [BaggingClassifier](https://scikit-learn.org/stable/modules/generated/sklearn.ensemble.BaggingClassifier.html)."
   ]
  },
  {
   "cell_type": "code",
   "execution_count": 3,
   "metadata": {},
   "outputs": [],
   "source": [
    "from sklearn.ensemble import BaggingClassifier\n",
    "\n",
    "#TO DO : instancier et entrainer un modèle de bagging"
   ]
  },
  {
   "cell_type": "markdown",
   "metadata": {},
   "source": [
    "#### Boosting (Gradient Boosting)\n",
    "\n",
    "Entrainez et évaluez un modèle de boosting avec la fonction [GradientBoostingClassifier](https://scikit-learn.org/stable/modules/generated/sklearn.ensemble.GradientBoostingClassifier.html) de sklearn."
   ]
  },
  {
   "cell_type": "code",
   "execution_count": 4,
   "metadata": {},
   "outputs": [],
   "source": [
    "from sklearn.ensemble import GradientBoostingClassifier\n"
   ]
  },
  {
   "cell_type": "markdown",
   "metadata": {},
   "source": [
    "Evaluation du modèle"
   ]
  },
  {
   "cell_type": "code",
   "execution_count": null,
   "metadata": {},
   "outputs": [],
   "source": []
  },
  {
   "cell_type": "markdown",
   "metadata": {},
   "source": [
    "#### xgboost\n",
    "\n",
    "Entrainez et évaluez un modèle de boosting avec la fonction [XGBClassifier](https://xgboost.readthedocs.io/en/latest/python/python_api.html#xgboost.XGBClassifier) de xgboost."
   ]
  },
  {
   "cell_type": "code",
   "execution_count": 5,
   "metadata": {},
   "outputs": [],
   "source": [
    "from xgboost import XGBClassifier\n"
   ]
  },
  {
   "cell_type": "markdown",
   "metadata": {},
   "source": [
    "essayez d'autres algorithmes de bagging/boosting:\n",
    "\n",
    "* [sklearn.ensemble.BaggingClassifier](https://scikit-learn.org/stable/modules/generated/sklearn.ensemble.BaggingClassifier.html)\n",
    "\n",
    "* [sklearn.ensemble.ExtraTreesClassifier](https://scikit-learn.org/stable/modules/generated/sklearn.ensemble.ExtraTreesClassifier.html)\n",
    "\n",
    "* [sklearn.ensemble.HistGradientBoostingClassifier](https://scikit-learn.org/stable/modules/generated/sklearn.ensemble.HistGradientBoostingClassifier.html)"
   ]
  }
 ],
 "metadata": {
  "kernelspec": {
   "display_name": "py10",
   "language": "python",
   "name": "py10"
  },
  "language_info": {
   "codemirror_mode": {
    "name": "ipython",
    "version": 3
   },
   "file_extension": ".py",
   "mimetype": "text/x-python",
   "name": "python",
   "nbconvert_exporter": "python",
   "pygments_lexer": "ipython3",
   "version": "3.10.9"
  }
 },
 "nbformat": 4,
 "nbformat_minor": 2
}
