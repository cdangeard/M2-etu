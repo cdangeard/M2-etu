{
 "cells": [
  {
   "cell_type": "markdown",
   "metadata": {},
   "source": [
    "# TD 1 : Visualisation de données et Nettoyage de données"
   ]
  },
  {
   "cell_type": "markdown",
   "metadata": {},
   "source": [
    "### Attribute Information:"
   ]
  },
  {
   "cell_type": "markdown",
   "metadata": {},
   "source": [
    "1: surgery? \n",
    "1 = Yes, it had surgery \n",
    "2 = It was treated without surgery \n",
    "\n",
    "2: Age \n",
    "1 = Adult horse \n",
    "2 = Young (< 6 months) \n",
    "\n",
    "3: Hospital Number \n",
    "- numeric id \n",
    "- the case number assigned to the horse (may not be unique if the horse is treated > 1 time) \n",
    "\n",
    "4: rectal temperature \n",
    "- linear \n",
    "- in degrees celsius. \n",
    "- An elevated temp may occur due to infection. \n",
    "- temperature may be reduced when the animal is in late shock \n",
    "- normal temp is 37.8 \n",
    "- this parameter will usually change as the problem progresses, eg. may start out normal, then become elevated because of the lesion, passing back through the normal range as the horse goes into shock \n",
    "5: pulse \n",
    "- linear \n",
    "- the heart rate in beats per minute \n",
    "- is a reflection of the heart condition: 30 -40 is normal for adults \n",
    "- rare to have a lower than normal rate although athletic horses may have a rate of 20-25 \n",
    "- animals with painful lesions or suffering from circulatory shock may have an elevated heart rate \n",
    "\n",
    "6: respiratory rate \n",
    "- linear \n",
    "- normal rate is 8 to 10 \n",
    "- usefulness is doubtful due to the great fluctuations \n",
    "\n",
    "7: temperature of extremities \n",
    "- a subjective indication of peripheral circulation \n",
    "- possible values: \n",
    "1 = Normal \n",
    "2 = Warm \n",
    "3 = Cool \n",
    "4 = Cold \n",
    "- cool to cold extremities indicate possible shock \n",
    "- hot extremities should correlate with an elevated rectal temp. \n",
    "\n",
    "8: peripheral pulse \n",
    "- subjective \n",
    "- possible values are: \n",
    "1 = normal \n",
    "2 = increased \n",
    "3 = reduced \n",
    "4 = absent \n",
    "- normal or increased p.p. are indicative of adequate circulation while reduced or absent indicate poor perfusion \n",
    "\n",
    "9: mucous membranes \n",
    "- a subjective measurement of colour \n",
    "- possible values are: \n",
    "1 = normal pink \n",
    "2 = bright pink \n",
    "3 = pale pink \n",
    "4 = pale cyanotic \n",
    "5 = bright red / injected \n",
    "6 = dark cyanotic \n",
    "- 1 and 2 probably indicate a normal or slightly increased circulation \n",
    "- 3 may occur in early shock \n",
    "- 4 and 6 are indicative of serious circulatory compromise \n",
    "- 5 is more indicative of a septicemia \n",
    "\n",
    "10: capillary refill time \n",
    "- a clinical judgement. The longer the refill, the poorer the circulation \n",
    "- possible values \n",
    "1 = < 3 seconds \n",
    "2 = >= 3 seconds \n",
    "\n",
    "11: pain - a subjective judgement of the horse's pain level \n",
    "- possible values: \n",
    "1 = alert, no pain \n",
    "2 = depressed \n",
    "3 = intermittent mild pain \n",
    "4 = intermittent severe pain \n",
    "5 = continuous severe pain \n",
    "- should NOT be treated as a ordered or discrete variable! \n",
    "- In general, the more painful, the more likely it is to require surgery \n",
    "- prior treatment of pain may mask the pain level to some extent \n",
    "\n",
    "12: peristalsis \n",
    "- an indication of the activity in the horse's gut. As the gut becomes more distended or the horse becomes more toxic, the activity decreases \n",
    "- possible values: \n",
    "1 = hypermotile \n",
    "2 = normal \n",
    "3 = hypomotile \n",
    "4 = absent \n",
    "\n",
    "13: abdominal distension \n",
    "- An IMPORTANT parameter. \n",
    "- possible values \n",
    "1 = none \n",
    "2 = slight \n",
    "3 = moderate \n",
    "4 = severe \n",
    "- an animal with abdominal distension is likely to be painful and have reduced gut motility. \n",
    "- a horse with severe abdominal distension is likely to require surgery just tio relieve the pressure \n",
    "\n",
    "14: nasogastric tube \n",
    "- this refers to any gas coming out of the tube \n",
    "- possible values: \n",
    "1 = none \n",
    "2 = slight \n",
    "3 = significant \n",
    "- a large gas cap in the stomach is likely to give the horse discomfort \n",
    "\n",
    "15: nasogastric reflux \n",
    "- possible values \n",
    "1 = none \n",
    "2 = > 1 liter \n",
    "3 = < 1 liter \n",
    "- the greater amount of reflux, the more likelihood that there is some serious obstruction to the fluid passage from the rest of the intestine \n",
    "\n",
    "16: nasogastric reflux PH \n",
    "- linear \n",
    "- scale is from 0 to 14 with 7 being neutral \n",
    "- normal values are in the 3 to 4 range \n",
    "\n",
    "17: rectal examination - feces \n",
    "- possible values \n",
    "1 = normal \n",
    "2 = increased \n",
    "3 = decreased \n",
    "4 = absent \n",
    "- absent feces probably indicates an obstruction \n",
    "\n",
    "18: abdomen \n",
    "- possible values \n",
    "1 = normal \n",
    "2 = other \n",
    "3 = firm feces in the large intestine \n",
    "4 = distended small intestine \n",
    "5 = distended large intestine \n",
    "- 3 is probably an obstruction caused by a mechanical impaction and is normally treated medically \n",
    "- 4 and 5 indicate a surgical lesion \n",
    "\n",
    "19: packed cell volume \n",
    "- linear \n",
    "- the # of red cells by volume in the blood \n",
    "- normal range is 30 to 50. The level rises as the circulation becomes compromised or as the animal becomes dehydrated. \n",
    "\n",
    "20: total protein \n",
    "- linear \n",
    "- normal values lie in the 6-7.5 (gms/dL) range \n",
    "- the higher the value the greater the dehydration \n",
    "\n",
    "21: abdominocentesis appearance \n",
    "- a needle is put in the horse's abdomen and fluid is obtained from \n",
    "the abdominal cavity \n",
    "- possible values: \n",
    "1 = clear \n",
    "2 = cloudy \n",
    "3 = serosanguinous \n",
    "- normal fluid is clear while cloudy or serosanguinous indicates a compromised gut \n",
    "\n",
    "22: abdomcentesis total protein \n",
    "- linear \n",
    "- the higher the level of protein the more likely it is to have a compromised gut. Values are in gms/dL \n",
    "\n",
    "23: outcome \n",
    "- what eventually happened to the horse? \n",
    "- possible values: \n",
    "1 = lived \n",
    "2 = died \n",
    "3 = was euthanized \n",
    "\n",
    "24: surgical lesion? \n",
    "- retrospectively, was the problem (lesion) surgical? \n",
    "- all cases are either operated upon or autopsied so that this value and the lesion type are always known \n",
    "- possible values: \n",
    "1 = Yes \n",
    "2 = No \n",
    "\n",
    "25, 26, 27: type of lesion \n",
    "- first number is site of lesion \n",
    "1 = gastric \n",
    "2 = sm intestine \n",
    "3 = lg colon \n",
    "4 = lg colon and cecum \n",
    "5 = cecum \n",
    "6 = transverse colon \n",
    "7 = retum/descending colon \n",
    "8 = uterus \n",
    "9 = bladder \n",
    "11 = all intestinal sites \n",
    "00 = none \n",
    "- second number is type \n",
    "1 = simple \n",
    "2 = strangulation \n",
    "3 = inflammation \n",
    "4 = other \n",
    "- third number is subtype \n",
    "1 = mechanical \n",
    "2 = paralytic \n",
    "0 = n/a \n",
    "- fourth number is specific code \n",
    "1 = obturation \n",
    "2 = intrinsic \n",
    "3 = extrinsic \n",
    "4 = adynamic \n",
    "5 = volvulus/torsion \n",
    "6 = intussuption \n",
    "7 = thromboembolic \n",
    "8 = hernia \n",
    "9 = lipoma/slenic incarceration \n",
    "10 = displacement \n",
    "0 = n/a \n",
    "28: cp_data \n",
    "- is pathology data present for this case? \n",
    "1 = Yes \n",
    "2 = No \n",
    "- this variable is of no significance since pathology data is not included or collected for these cases"
   ]
  },
  {
   "cell_type": "markdown",
   "metadata": {},
   "source": [
    "Objectif : Prédire si la lesion est chirurgicale ou non (colonne 24)"
   ]
  },
  {
   "cell_type": "markdown",
   "metadata": {},
   "source": [
    "### Import"
   ]
  },
  {
   "cell_type": "markdown",
   "metadata": {},
   "source": [
    "Importez les bibliothèques nécessaires et chargez le fichier `horse.csv` dans un dataframe pandas.\n",
    "\n",
    "Vous pouvez utiliser la fonction [read_csv](https://pandas.pydata.org/pandas-docs/stable/reference/api/pandas.read_csv.html) de pandas.\n"
   ]
  },
  {
   "cell_type": "code",
   "execution_count": 63,
   "metadata": {},
   "outputs": [],
   "source": [
    "import pandas as pd                 # for data manipulation and analysis\n",
    "import numpy as np                  # for mathematical operations\n",
    "import plotly.express as px         # for data visualization\n",
    "import seaborn as sns               # for data visualization\n",
    "import matplotlib.pyplot as plt     # for data visualization"
   ]
  },
  {
   "cell_type": "code",
   "execution_count": 64,
   "metadata": {},
   "outputs": [],
   "source": [
    "# TODO: Charger le fichier csv dans un dataframe"
   ]
  },
  {
   "cell_type": "markdown",
   "metadata": {},
   "source": [
    "## EXPLORATION DES DONNÉES"
   ]
  },
  {
   "cell_type": "markdown",
   "metadata": {},
   "source": [
    "Visualisez les premières lignes, les dimensions et les types de données du dataset. A l'aide des fonctions :\n",
    "\n",
    "[pandas.head](https://pandas.pydata.org/pandas-docs/stable/reference/api/pandas.DataFrame.head.html)\n",
    "\n",
    "[pandas.shape](https://pandas.pydata.org/pandas-docs/stable/reference/api/pandas.DataFrame.shape.html)\n",
    "\n",
    "[pandas.dtypes](https://pandas.pydata.org/pandas-docs/stable/reference/api/pandas.DataFrame.dtypes.html)\n",
    "\n",
    "[pandas.info](https://pandas.pydata.org/pandas-docs/stable/reference/api/pandas.DataFrame.info.html)\n",
    "\n",
    "[pandas.describe](https://pandas.pydata.org/pandas-docs/stable/reference/api/pandas.DataFrame.describe.html)"
   ]
  },
  {
   "cell_type": "code",
   "execution_count": 3,
   "metadata": {},
   "outputs": [
    {
     "data": {
      "text/html": [
       "<div>\n",
       "<style scoped>\n",
       "    .dataframe tbody tr th:only-of-type {\n",
       "        vertical-align: middle;\n",
       "    }\n",
       "\n",
       "    .dataframe tbody tr th {\n",
       "        vertical-align: top;\n",
       "    }\n",
       "\n",
       "    .dataframe thead th {\n",
       "        text-align: right;\n",
       "    }\n",
       "</style>\n",
       "<table border=\"1\" class=\"dataframe\">\n",
       "  <thead>\n",
       "    <tr style=\"text-align: right;\">\n",
       "      <th></th>\n",
       "      <th>surgery</th>\n",
       "      <th>age</th>\n",
       "      <th>hospital_number</th>\n",
       "      <th>rectal_temp</th>\n",
       "      <th>pulse</th>\n",
       "      <th>respiratory_rate</th>\n",
       "      <th>temp_of_extremities</th>\n",
       "      <th>peripheral_pulse</th>\n",
       "      <th>mucous_membrane</th>\n",
       "      <th>capillary_refill_time</th>\n",
       "      <th>...</th>\n",
       "      <th>packed_cell_volume</th>\n",
       "      <th>total_protein</th>\n",
       "      <th>abdomo_appearance</th>\n",
       "      <th>abdomo_protein</th>\n",
       "      <th>outcome</th>\n",
       "      <th>surgical_lesion</th>\n",
       "      <th>lesion_1</th>\n",
       "      <th>lesion_2</th>\n",
       "      <th>lesion_3</th>\n",
       "      <th>cp_data</th>\n",
       "    </tr>\n",
       "  </thead>\n",
       "  <tbody>\n",
       "    <tr>\n",
       "      <th>0</th>\n",
       "      <td>no</td>\n",
       "      <td>adult</td>\n",
       "      <td>530101</td>\n",
       "      <td>38.5</td>\n",
       "      <td>66.0</td>\n",
       "      <td>28.0</td>\n",
       "      <td>cool</td>\n",
       "      <td>reduced</td>\n",
       "      <td>NaN</td>\n",
       "      <td>more_3_sec</td>\n",
       "      <td>...</td>\n",
       "      <td>45.0</td>\n",
       "      <td>8.4</td>\n",
       "      <td>NaN</td>\n",
       "      <td>NaN</td>\n",
       "      <td>died</td>\n",
       "      <td>no</td>\n",
       "      <td>11300</td>\n",
       "      <td>0</td>\n",
       "      <td>0</td>\n",
       "      <td>no</td>\n",
       "    </tr>\n",
       "    <tr>\n",
       "      <th>1</th>\n",
       "      <td>yes</td>\n",
       "      <td>adult</td>\n",
       "      <td>534817</td>\n",
       "      <td>39.2</td>\n",
       "      <td>88.0</td>\n",
       "      <td>20.0</td>\n",
       "      <td>NaN</td>\n",
       "      <td>NaN</td>\n",
       "      <td>pale_cyanotic</td>\n",
       "      <td>less_3_sec</td>\n",
       "      <td>...</td>\n",
       "      <td>50.0</td>\n",
       "      <td>85.0</td>\n",
       "      <td>cloudy</td>\n",
       "      <td>2.0</td>\n",
       "      <td>euthanized</td>\n",
       "      <td>no</td>\n",
       "      <td>2208</td>\n",
       "      <td>0</td>\n",
       "      <td>0</td>\n",
       "      <td>no</td>\n",
       "    </tr>\n",
       "    <tr>\n",
       "      <th>2</th>\n",
       "      <td>no</td>\n",
       "      <td>adult</td>\n",
       "      <td>530334</td>\n",
       "      <td>38.3</td>\n",
       "      <td>40.0</td>\n",
       "      <td>24.0</td>\n",
       "      <td>normal</td>\n",
       "      <td>normal</td>\n",
       "      <td>pale_pink</td>\n",
       "      <td>less_3_sec</td>\n",
       "      <td>...</td>\n",
       "      <td>33.0</td>\n",
       "      <td>6.7</td>\n",
       "      <td>NaN</td>\n",
       "      <td>NaN</td>\n",
       "      <td>lived</td>\n",
       "      <td>no</td>\n",
       "      <td>0</td>\n",
       "      <td>0</td>\n",
       "      <td>0</td>\n",
       "      <td>yes</td>\n",
       "    </tr>\n",
       "    <tr>\n",
       "      <th>3</th>\n",
       "      <td>yes</td>\n",
       "      <td>young</td>\n",
       "      <td>5290409</td>\n",
       "      <td>39.1</td>\n",
       "      <td>164.0</td>\n",
       "      <td>84.0</td>\n",
       "      <td>cold</td>\n",
       "      <td>normal</td>\n",
       "      <td>dark_cyanotic</td>\n",
       "      <td>more_3_sec</td>\n",
       "      <td>...</td>\n",
       "      <td>48.0</td>\n",
       "      <td>7.2</td>\n",
       "      <td>serosanguious</td>\n",
       "      <td>5.3</td>\n",
       "      <td>died</td>\n",
       "      <td>yes</td>\n",
       "      <td>2208</td>\n",
       "      <td>0</td>\n",
       "      <td>0</td>\n",
       "      <td>yes</td>\n",
       "    </tr>\n",
       "    <tr>\n",
       "      <th>4</th>\n",
       "      <td>no</td>\n",
       "      <td>adult</td>\n",
       "      <td>530255</td>\n",
       "      <td>37.3</td>\n",
       "      <td>104.0</td>\n",
       "      <td>35.0</td>\n",
       "      <td>NaN</td>\n",
       "      <td>NaN</td>\n",
       "      <td>dark_cyanotic</td>\n",
       "      <td>more_3_sec</td>\n",
       "      <td>...</td>\n",
       "      <td>74.0</td>\n",
       "      <td>7.4</td>\n",
       "      <td>NaN</td>\n",
       "      <td>NaN</td>\n",
       "      <td>died</td>\n",
       "      <td>no</td>\n",
       "      <td>4300</td>\n",
       "      <td>0</td>\n",
       "      <td>0</td>\n",
       "      <td>no</td>\n",
       "    </tr>\n",
       "  </tbody>\n",
       "</table>\n",
       "<p>5 rows × 28 columns</p>\n",
       "</div>"
      ],
      "text/plain": [
       "  surgery    age  hospital_number  rectal_temp  pulse  respiratory_rate  \\\n",
       "0      no  adult           530101         38.5   66.0              28.0   \n",
       "1     yes  adult           534817         39.2   88.0              20.0   \n",
       "2      no  adult           530334         38.3   40.0              24.0   \n",
       "3     yes  young          5290409         39.1  164.0              84.0   \n",
       "4      no  adult           530255         37.3  104.0              35.0   \n",
       "\n",
       "  temp_of_extremities peripheral_pulse mucous_membrane capillary_refill_time  \\\n",
       "0                cool          reduced             NaN            more_3_sec   \n",
       "1                 NaN              NaN   pale_cyanotic            less_3_sec   \n",
       "2              normal           normal       pale_pink            less_3_sec   \n",
       "3                cold           normal   dark_cyanotic            more_3_sec   \n",
       "4                 NaN              NaN   dark_cyanotic            more_3_sec   \n",
       "\n",
       "   ... packed_cell_volume total_protein abdomo_appearance abdomo_protein  \\\n",
       "0  ...               45.0           8.4               NaN            NaN   \n",
       "1  ...               50.0          85.0            cloudy            2.0   \n",
       "2  ...               33.0           6.7               NaN            NaN   \n",
       "3  ...               48.0           7.2     serosanguious            5.3   \n",
       "4  ...               74.0           7.4               NaN            NaN   \n",
       "\n",
       "      outcome  surgical_lesion lesion_1 lesion_2  lesion_3  cp_data  \n",
       "0        died               no    11300        0         0       no  \n",
       "1  euthanized               no     2208        0         0       no  \n",
       "2       lived               no        0        0         0      yes  \n",
       "3        died              yes     2208        0         0      yes  \n",
       "4        died               no     4300        0         0       no  \n",
       "\n",
       "[5 rows x 28 columns]"
      ]
     },
     "execution_count": 3,
     "metadata": {},
     "output_type": "execute_result"
    }
   ],
   "source": []
  },
  {
   "cell_type": "code",
   "execution_count": 4,
   "metadata": {},
   "outputs": [
    {
     "name": "stdout",
     "output_type": "stream",
     "text": [
      "<class 'pandas.core.frame.DataFrame'>\n",
      "RangeIndex: 299 entries, 0 to 298\n",
      "Data columns (total 28 columns):\n",
      " #   Column                 Non-Null Count  Dtype  \n",
      "---  ------                 --------------  -----  \n",
      " 0   surgery                299 non-null    object \n",
      " 1   age                    299 non-null    object \n",
      " 2   hospital_number        299 non-null    int64  \n",
      " 3   rectal_temp            239 non-null    float64\n",
      " 4   pulse                  275 non-null    float64\n",
      " 5   respiratory_rate       241 non-null    float64\n",
      " 6   temp_of_extremities    243 non-null    object \n",
      " 7   peripheral_pulse       230 non-null    object \n",
      " 8   mucous_membrane        252 non-null    object \n",
      " 9   capillary_refill_time  267 non-null    object \n",
      " 10  pain                   244 non-null    object \n",
      " 11  peristalsis            255 non-null    object \n",
      " 12  abdominal_distention   243 non-null    object \n",
      " 13  nasogastric_tube       195 non-null    object \n",
      " 14  nasogastric_reflux     193 non-null    object \n",
      " 15  nasogastric_reflux_ph  53 non-null     float64\n",
      " 16  rectal_exam_feces      197 non-null    object \n",
      " 17  abdomen                181 non-null    object \n",
      " 18  packed_cell_volume     270 non-null    float64\n",
      " 19  total_protein          266 non-null    float64\n",
      " 20  abdomo_appearance      134 non-null    object \n",
      " 21  abdomo_protein         101 non-null    float64\n",
      " 22  outcome                299 non-null    object \n",
      " 23  surgical_lesion        299 non-null    object \n",
      " 24  lesion_1               299 non-null    int64  \n",
      " 25  lesion_2               299 non-null    int64  \n",
      " 26  lesion_3               299 non-null    int64  \n",
      " 27  cp_data                299 non-null    object \n",
      "dtypes: float64(7), int64(4), object(17)\n",
      "memory usage: 65.5+ KB\n"
     ]
    }
   ],
   "source": []
  },
  {
   "cell_type": "markdown",
   "metadata": {},
   "source": [
    "Transformez les données dans un type de données adapté si nécessaire.\n",
    "\n",
    "[pandas.astype](https://pandas.pydata.org/pandas-docs/stable/reference/api/pandas.DataFrame.astype.html)"
   ]
  },
  {
   "cell_type": "code",
   "execution_count": 5,
   "metadata": {},
   "outputs": [],
   "source": []
  },
  {
   "cell_type": "markdown",
   "metadata": {},
   "source": [
    "### Visualisation des données brutes"
   ]
  },
  {
   "cell_type": "markdown",
   "metadata": {},
   "source": [
    "bonus :\n",
    "[plt.rcParams](https://matplotlib.org/3.1.1/tutorials/introductory/customizing.html) permet de modifier les paramètres par défaut des graphiques."
   ]
  },
  {
   "cell_type": "markdown",
   "metadata": {},
   "source": [
    "Calculer et visualiser la fréquence d'appararition des deux modalités à prédire.\n",
    "\n",
    "Vous pouvez utiliser la fonction [value_counts](https://pandas.pydata.org/pandas-docs/stable/reference/api/pandas.Series.value_counts.html) de pandas.\n",
    "\n",
    "Pandas integre des modules de matplotlib pour faire rapidement des [visuels](https://pandas.pydata.org/docs/reference/api/pandas.DataFrame.plot.html)"
   ]
  },
  {
   "cell_type": "code",
   "execution_count": null,
   "metadata": {},
   "outputs": [],
   "source": []
  },
  {
   "cell_type": "markdown",
   "metadata": {},
   "source": [
    "Visualisez les modalitésd des données qualitatives :\n",
    "\n",
    "seaborn :\n",
    "[countplot](https://seaborn.pydata.org/generated/seaborn.countplot.html)\n",
    "\n",
    "plotly :\n",
    "[Bar](https://plotly.com/python/bar-charts/)"
   ]
  },
  {
   "cell_type": "markdown",
   "metadata": {},
   "source": [
    "Bonus: Pour afficher plusieurs graph sur le meme axe : \n",
    "* sns,matplotlib : vous pouvez utiliser la fonction [subplots](https://matplotlib.org/3.1.1/api/_as_gen/matplotlib.pyplot.subplots.html) de matplotlib.\n",
    "* plotly : vous pouvez utiliser la fonction [make_subplots](https://plotly.com/python/subplots/) de plotly."
   ]
  },
  {
   "cell_type": "code",
   "execution_count": null,
   "metadata": {},
   "outputs": [],
   "source": []
  },
  {
   "cell_type": "markdown",
   "metadata": {},
   "source": [
    "Visualisez les variables quantitatives.\n",
    "\n",
    "Vous pouvez utiliser la fonction [hist](https://pandas.pydata.org/pandas-docs/stable/reference/api/pandas.DataFrame.hist.html) de pandas.\n",
    "\n",
    "Vous pouvez utiliser la fonction [px.Histogram](https://plotly.com/python/histograms/)de plotly.express\n",
    "\n",
    "Vous pouvez utiliser la fonction [sns.histplot](https://seaborn.pydata.org/generated/seaborn.displot.html) de seaborn.\n"
   ]
  },
  {
   "cell_type": "code",
   "execution_count": null,
   "metadata": {},
   "outputs": [],
   "source": []
  },
  {
   "cell_type": "markdown",
   "metadata": {},
   "source": [
    "Bonus : Ajouter des visuels qui vous semblent pertinents, pour visualiser les données."
   ]
  },
  {
   "cell_type": "markdown",
   "metadata": {},
   "source": [
    "### Visualisation croisées"
   ]
  },
  {
   "cell_type": "markdown",
   "metadata": {},
   "source": [
    "Visualiser les données entre elles:\n",
    "- Utilisez par exemple la fonction [pairplot](https://seaborn.pydata.org/generated/seaborn.pairplot.html?highlight=pairplot#seaborn.pairplot)\n",
    "- Une matrice de corélation avec [plotly](https://plotly.com/python/imshow/)\n",
    "- Une matrice de corélation avec [seaborn](https://seaborn.pydata.org/examples/many_pairwise_correlations.html)\n"
   ]
  },
  {
   "cell_type": "code",
   "execution_count": null,
   "metadata": {},
   "outputs": [],
   "source": []
  },
  {
   "cell_type": "markdown",
   "metadata": {},
   "source": [
    "Visualiser les corélations entre les variables quantitatives :\n",
    "- [plotly](https://plotly.com/python/heatmap-and-contour-subplots/)\n",
    "- [seaborn](https://seaborn.pydata.org/examples/many_pairwise_correlations.html)"
   ]
  },
  {
   "cell_type": "code",
   "execution_count": null,
   "metadata": {},
   "outputs": [],
   "source": []
  },
  {
   "cell_type": "markdown",
   "metadata": {},
   "source": [
    "Réalisez un tableau de fréquence entre la variable **surgical lesion** et **temp_of_extremities**, et faites en sorte que la somme des lignes soit egal à 1.\n",
    "\n",
    "Vous pouvez utiliser la fonction [crosstab](https://pandas.pydata.org/pandas-docs/stable/reference/api/pandas.crosstab.html) de pandas."
   ]
  },
  {
   "cell_type": "code",
   "execution_count": null,
   "metadata": {},
   "outputs": [],
   "source": []
  },
  {
   "cell_type": "markdown",
   "metadata": {},
   "source": [
    "Visualisez des variables quantitative en fonction de la modalités à prédire.\n",
    "\n",
    "\n",
    "* [px.histogram](https://plotly.com/python/histograms/)\n",
    "* [sns.histplot](https://seaborn.pydata.org/generated/seaborn.displot.html)"
   ]
  },
  {
   "cell_type": "code",
   "execution_count": null,
   "metadata": {},
   "outputs": [],
   "source": []
  },
  {
   "cell_type": "markdown",
   "metadata": {},
   "source": [
    "## NETTOYAGE DES DONNÉES"
   ]
  },
  {
   "cell_type": "markdown",
   "metadata": {},
   "source": [
    "Supprimez les colonnes qui ne sont pas pertinentes pour la prédiction."
   ]
  },
  {
   "cell_type": "code",
   "execution_count": null,
   "metadata": {},
   "outputs": [],
   "source": []
  },
  {
   "cell_type": "markdown",
   "metadata": {},
   "source": [
    "### Etudiez les valeurs manquantes et les valeurs aberrantes."
   ]
  },
  {
   "cell_type": "markdown",
   "metadata": {},
   "source": [
    "Visualisez les valeurs aberrantes:\n",
    "\n",
    "par exemple un boxplot :\n",
    "* [seaborn](https://seaborn.pydata.org/examples/many_pairwise_correlations.html)\n",
    "* [plotly](https://plotly.com/python/box-plots/)\n",
    "* [pandas boxplot](https://pandas.pydata.org/pandas-docs/stable/reference/api/pandas.DataFrame.boxplot.html)"
   ]
  },
  {
   "cell_type": "code",
   "execution_count": null,
   "metadata": {},
   "outputs": [],
   "source": []
  },
  {
   "cell_type": "markdown",
   "metadata": {},
   "source": [
    "### Valeurs manquantes\n",
    "\n",
    "Visualisez les valeurs manquantes :"
   ]
  },
  {
   "cell_type": "code",
   "execution_count": null,
   "metadata": {},
   "outputs": [],
   "source": []
  },
  {
   "cell_type": "markdown",
   "metadata": {},
   "source": [
    "Pour les valeurs manquantes, une fois les variables qui en contiennent identifiés, proposez une méthode de gestion de ces valeurs manquantes.\n",
    "\n",
    "[Package sklearn](https://scikit-learn.org/stable/modules/impute.html)\n",
    "\n",
    "Pour aller plus loin :\n",
    "[Cours de François Husson (Agrocampus)](https://husson.github.io/img/cours_missMDA_Sp%C3%A9_Stat.pdf)\n"
   ]
  },
  {
   "cell_type": "code",
   "execution_count": null,
   "metadata": {},
   "outputs": [],
   "source": []
  }
 ],
 "metadata": {
  "kernelspec": {
   "display_name": "py10",
   "language": "python",
   "name": "py10"
  },
  "language_info": {
   "codemirror_mode": {
    "name": "ipython",
    "version": 3
   },
   "file_extension": ".py",
   "mimetype": "text/x-python",
   "name": "python",
   "nbconvert_exporter": "python",
   "pygments_lexer": "ipython3",
   "version": "3.10.9"
  },
  "orig_nbformat": 4
 },
 "nbformat": 4,
 "nbformat_minor": 2
}
